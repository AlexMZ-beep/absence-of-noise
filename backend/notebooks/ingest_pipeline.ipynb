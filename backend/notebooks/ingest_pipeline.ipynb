{
 "cells": [
  {
   "metadata": {},
   "cell_type": "code",
   "source": [
    "from typing import List\n",
    "\n",
    "from langchain_core.documents import Document"
   ],
   "id": "d6f9a69c38d17552",
   "outputs": [],
   "execution_count": null
  },
  {
   "metadata": {},
   "cell_type": "code",
   "source": "file_path = '../../rzd_data/2Положение_о_молодом_специалисте_ОАО.pdf'",
   "id": "d6bd9c1be12ec6b4",
   "outputs": [],
   "execution_count": null
  },
  {
   "metadata": {},
   "cell_type": "code",
   "source": [
    "from langchain_community.document_loaders import PDFMinerLoader\n",
    "\n",
    "loader = PDFMinerLoader(file_path)\n",
    "docs = loader.load()\n",
    "docs[0]"
   ],
   "id": "ddfbc63e20b2a8a",
   "outputs": [],
   "execution_count": null
  },
  {
   "metadata": {},
   "cell_type": "code",
   "source": [
    "import re\n",
    "from pypdf import PdfReader\n",
    "from uuid import uuid4\n",
    "from langchain_community.document_loaders import UnstructuredPDFLoader\n",
    "loader = UnstructuredPDFLoader(file_path)\n",
    "\n",
    "def extract_sections(pdf_path):\n",
    "    loader = PDFMinerLoader(pdf_path)\n",
    "    docs = loader.load()\n",
    "    uid = str(uuid4())\n",
    "    text = docs[0].page_content\n",
    "\n",
    "    # Разделяем текст на верхнеуровневые разделы\n",
    "    top_level_sections = re.split(r'\\n(?=Раздел \\d+\\.)', text)\n",
    "\n",
    "    # Словарь для хранения всех секций\n",
    "    all_sections = []\n",
    "    # Обрабатываем каждый верхнеуровневый раздел\n",
    "    for top_section in top_level_sections:\n",
    "        # Ищем название верхнеуровневого раздела\n",
    "        top_match = re.match(r'(Раздел \\d+\\..+?)(?=\\n\\d+\\.\\d+\\.|\\Z)', top_section, re.DOTALL)\n",
    "        if top_match:\n",
    "            top_section_name = top_match.group(1).strip()\n",
    "\n",
    "            # Разделяем текст на подсекции\n",
    "            subsections = re.split(r'\\n(?=\\d+\\.\\d+\\.)', top_section)\n",
    "\n",
    "            # Обрабатываем каждую подсекцию\n",
    "            for subsection in subsections[1:]:\n",
    "                match = re.match(r'(\\d+\\.\\d+\\.)', subsection)\n",
    "                if match:\n",
    "                    section_number = match.group(1)\n",
    "                    section_content = subsection[len(section_number):].strip()\n",
    "                    all_sections.append({\n",
    "                        'content': section_content,\n",
    "                        'top_level_section': top_section_name,\n",
    "                        'section_number': section_number,\n",
    "                        'act_name': 'Коллективный договор',\n",
    "                        'act_id': uid,\n",
    "                    })\n",
    "\n",
    "    return all_sections\n",
    "\n",
    "\n",
    "sections = extract_sections(file_path)\n",
    "\n",
    "docs = [Document(page_content=section['content'], metadata=section) for section in sections]"
   ],
   "id": "7798b4563b91816b",
   "outputs": [],
   "execution_count": null
  },
  {
   "metadata": {},
   "cell_type": "code",
   "source": "len(docs)",
   "id": "131392adcc862bb9",
   "outputs": [],
   "execution_count": null
  },
  {
   "metadata": {},
   "cell_type": "code",
   "source": [
    "for doc in docs:\n",
    "    print(f\"Секция {doc.metadata['section_number']}\")\n",
    "    print(f\"Верхнеуровневый раздел: {doc.metadata['top_level_section']}\")\n",
    "    print(f\"Содержание: {doc.page_content[:100]}...\")  # Выводим первые 100 символов содержимого\n",
    "    print()"
   ],
   "id": "32614039966b19da",
   "outputs": [],
   "execution_count": null
  },
  {
   "metadata": {},
   "cell_type": "code",
   "source": [
    "from langchain_huggingface import HuggingFaceEmbeddings\n",
    "\n",
    "embedding_function = HuggingFaceEmbeddings(model_name=\"intfloat/multilingual-e5-large-instruct\")"
   ],
   "id": "e44b04ad0b348821",
   "outputs": [],
   "execution_count": null
  },
  {
   "metadata": {},
   "cell_type": "code",
   "source": [
    "from langchain_chroma import Chroma\n",
    "\n",
    "vectorstore = Chroma(\n",
    "    collection_name=\"rzd_base\", embedding_function=embedding_function, persist_directory='./chroma_data'\n",
    ")"
   ],
   "id": "f54ce4edfa43f829",
   "outputs": [],
   "execution_count": null
  },
  {
   "metadata": {},
   "cell_type": "code",
   "outputs": [],
   "execution_count": null,
   "source": [
    "vectorstore.add_documents(documents=docs)\n",
    "retriever = vectorstore.as_retriever(search_kwargs={'k': 50})"
   ],
   "id": "2a783600beb80c9c"
  }
 ],
 "metadata": {
  "kernelspec": {
   "display_name": "Python 3",
   "language": "python",
   "name": "python3"
  },
  "language_info": {
   "codemirror_mode": {
    "name": "ipython",
    "version": 2
   },
   "file_extension": ".py",
   "mimetype": "text/x-python",
   "name": "python",
   "nbconvert_exporter": "python",
   "pygments_lexer": "ipython2",
   "version": "2.7.6"
  }
 },
 "nbformat": 4,
 "nbformat_minor": 5
}
